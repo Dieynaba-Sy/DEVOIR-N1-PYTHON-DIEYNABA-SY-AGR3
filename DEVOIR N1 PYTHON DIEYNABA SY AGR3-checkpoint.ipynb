{
 "cells": [
  {
   "cell_type": "markdown",
   "id": "2fbaa206",
   "metadata": {},
   "source": [
    "# EXERCICE 1"
   ]
  },
  {
   "cell_type": "code",
   "execution_count": 1,
   "id": "37f68798",
   "metadata": {},
   "outputs": [
    {
     "name": "stdout",
     "output_type": "stream",
     "text": [
      "[2, 4, 6, 8, 10, 12, 14, 16, 18, 20]\n"
     ]
    }
   ],
   "source": [
    "#1.Ecrivez un programme qui cree une liste de nombre de 1 à 10 et affiche chaque nombre multiplié par 2\n",
    "liste_multi=[]\n",
    "for i in range(1,11):\n",
    "    multi=i*2\n",
    "    liste_multi.append(multi)\n",
    "print(liste_multi)"
   ]
  },
  {
   "cell_type": "code",
   "execution_count": 2,
   "id": "80ad692c",
   "metadata": {},
   "outputs": [
    {
     "name": "stdout",
     "output_type": "stream",
     "text": [
      "4\n",
      "3\n"
     ]
    }
   ],
   "source": [
    "#2.creez une liste de noms et affichez la longueur de chaque nom en utilisant une boucle\n",
    "liste=[\"faty\",\"aya\"]\n",
    "for i in liste:\n",
    "    print(len(i))"
   ]
  },
  {
   "cell_type": "code",
   "execution_count": 3,
   "id": "7763f968",
   "metadata": {},
   "outputs": [
    {
     "name": "stdout",
     "output_type": "stream",
     "text": [
      "[4, 16, 9]\n"
     ]
    }
   ],
   "source": [
    "#3.une fonction qui prend une liste de nombre en entree et renvoie la liste contenant le carre de chaque element\n",
    "def carres10Pour(liste):\n",
    "    liste_carres=[]\n",
    "    for i in liste:\n",
    "        liste_carres.append(i**2)\n",
    "    return liste_carres\n",
    "print(carres10Pour([2,4,3]))"
   ]
  },
  {
   "cell_type": "code",
   "execution_count": 8,
   "id": "3a5a9f67",
   "metadata": {},
   "outputs": [
    {
     "name": "stdout",
     "output_type": "stream",
     "text": [
      "6\n",
      "10\n",
      "6\n",
      "8\n",
      "9\n",
      "7\n",
      "6\n",
      "9\n"
     ]
    }
   ],
   "source": [
    "#4.une liste de nombres aleatoires et affichez seulement les nombres qui sont superieurs à 5 \n",
    "import random \n",
    "liste=[random.randint(1,10) for i in range(10)]\n",
    "for i in liste:\n",
    "    if i>5:\n",
    "        print(i)"
   ]
  },
  {
   "cell_type": "code",
   "execution_count": 7,
   "id": "52368239",
   "metadata": {},
   "outputs": [
    {
     "name": "stdout",
     "output_type": "stream",
     "text": [
      "orop\n"
     ]
    }
   ],
   "source": [
    "#5.un programme qui prend une chaine de caractéres en entree et affiche la plus longue \n",
    "liste=[\"orop\",\"gro\",\"ter\"]\n",
    "print(max(liste, key=len))"
   ]
  },
  {
   "cell_type": "markdown",
   "id": "a6155730",
   "metadata": {},
   "source": [
    "# EXERCICE 2"
   ]
  },
  {
   "cell_type": "code",
   "execution_count": 9,
   "id": "8214a369",
   "metadata": {},
   "outputs": [
    {
     "name": "stdout",
     "output_type": "stream",
     "text": [
      "[2]\n"
     ]
    }
   ],
   "source": [
    "#1.une fonction qui prend deux listes en entree et renvoie une nouvelle liste contenant les elements commun aux deux listes\n",
    "def elemcommun(liste1, liste2):\n",
    "    liste1=set(liste1)&set(liste2)\n",
    "    return list(liste1)\n",
    "\n",
    "print(elemcommun([1,2], [2,5]))\n",
    "\n",
    "   \n",
    "            "
   ]
  },
  {
   "cell_type": "code",
   "execution_count": 10,
   "id": "a845a705",
   "metadata": {},
   "outputs": [
    {
     "name": "stdout",
     "output_type": "stream",
     "text": [
      "veuiller donner un nombre: 5\n",
      "5 est impaire\n"
     ]
    }
   ],
   "source": [
    "#2.une fonction qui prend un nombre en entree et rnvoie pair ou impair\n",
    "def pairimpair():\n",
    "    n=int(input(\"veuiller donner un nombre: \"))\n",
    "    if (n % 2)==0:\n",
    "        print(\"{0} est paire\".format(n))\n",
    "    else:\n",
    "        print(\"{0} est impaire\".format(n))\n",
    "pairimpair ()"
   ]
  },
  {
   "cell_type": "code",
   "execution_count": 11,
   "id": "faf4193f",
   "metadata": {},
   "outputs": [
    {
     "name": "stdout",
     "output_type": "stream",
     "text": [
      "20\n"
     ]
    }
   ],
   "source": [
    "#3.somme de tous les elements\n",
    "def sommeelem(liste):\n",
    "    somme=0\n",
    "    for i in liste:\n",
    "        somme=somme + i\n",
    "    return somme\n",
    "print(sommeelem([2, 4, 8, 6]))"
   ]
  },
  {
   "cell_type": "code",
   "execution_count": 12,
   "id": "b33c6035",
   "metadata": {},
   "outputs": [
    {
     "name": "stdout",
     "output_type": "stream",
     "text": [
      "['c', 'm', 'c', 's', 'v', 'r', 'c']\n"
     ]
    }
   ],
   "source": [
    "#4.une fonction qui prend une liste de lots en entree et renvoie une nouvelle liste contenant la premiere lettre de chaque mot\n",
    "def premierlettre(liste):\n",
    "    print([i[0] for i in liste])\n",
    "premierlettre([\"chat\",\"mouton\",\"chevre\",\"souris\",\"vous\",\"reste\",\"cochon\"])"
   ]
  },
  {
   "cell_type": "markdown",
   "id": "f3279cd7",
   "metadata": {},
   "source": [
    "# EXERCICE 3"
   ]
  },
  {
   "cell_type": "code",
   "execution_count": 13,
   "id": "028ce23d",
   "metadata": {},
   "outputs": [
    {
     "name": "stdout",
     "output_type": "stream",
     "text": [
      "3.5\n"
     ]
    }
   ],
   "source": [
    "#1.une liste de nombres et une fonction qui renvoie la mediane de cette liste\n",
    "from statistics import median\n",
    "liste = [2, 5, 8, 1]\n",
    "print(median(liste))"
   ]
  },
  {
   "cell_type": "code",
   "execution_count": 14,
   "id": "1f249ad1",
   "metadata": {},
   "outputs": [
    {
     "name": "stdout",
     "output_type": "stream",
     "text": [
      "['marcheq']\n"
     ]
    }
   ],
   "source": [
    "#2.une fonction qui prend une liste de chaines de caracteres en entree et renvoie une nouvelle liste contenant seulement les chaines de plus de 5 caracteres\n",
    "def liste_caracteres(liste):\n",
    "    return [i for i in liste if len(i)>5]\n",
    "print(liste_caracteres([\"zeta\",\"preta\",\"marcheq\"]))"
   ]
  },
  {
   "cell_type": "code",
   "execution_count": 15,
   "id": "e41669cd",
   "metadata": {},
   "outputs": [
    {
     "name": "stdout",
     "output_type": "stream",
     "text": [
      "5.4\n"
     ]
    }
   ],
   "source": [
    "#3.une liste de nombre et ecrire un programme qui calcule la moyenne de ces nombre sans utiliser la fonction sum\n",
    "liste=[5,8,7,1,6]\n",
    "somme=0\n",
    "for i in liste:\n",
    "    somme=somme+i\n",
    "print(somme/len(liste))\n",
    "    "
   ]
  },
  {
   "cell_type": "code",
   "execution_count": 16,
   "id": "16a86952",
   "metadata": {},
   "outputs": [
    {
     "name": "stdout",
     "output_type": "stream",
     "text": [
      "[4, 2, 1]\n"
     ]
    }
   ],
   "source": [
    "#4.une fonction qui prend une liste en entree et renvoie la liste inverse\n",
    "def liste_inversee(liste):    \n",
    "    liste.reverse()\n",
    "    return liste\n",
    "print(liste_inversee([1,2,4]))"
   ]
  },
  {
   "cell_type": "code",
   "execution_count": 17,
   "id": "4a1a8de7",
   "metadata": {},
   "outputs": [
    {
     "name": "stdout",
     "output_type": "stream",
     "text": [
      "['fatimata', 'fama']\n"
     ]
    }
   ],
   "source": [
    "#5.une liste de noms et affichez les noms qui contiennent la lettre a\n",
    "def noms_contenant_a(liste_noms):\n",
    "    noms_avec_a = [nom for nom in liste_noms if \"a\" in nom.lower()]\n",
    "    return noms_avec_a\n",
    "\n",
    "#exemple d'utilisation\n",
    "liste_exemple = [\"fatimata\", \"oumou\", \"fama\", \"koursoum\"]\n",
    "resultat_noms_avec_a = noms_contenant_a(liste_exemple)\n",
    "\n",
    "print(resultat_noms_avec_a)"
   ]
  },
  {
   "cell_type": "markdown",
   "id": "52a8f709",
   "metadata": {},
   "source": [
    "# EXERCICE 4"
   ]
  },
  {
   "cell_type": "code",
   "execution_count": 18,
   "id": "059c274a",
   "metadata": {},
   "outputs": [
    {
     "name": "stdout",
     "output_type": "stream",
     "text": [
      "[1, 5, 5, 8, 9, 8, 2]\n",
      "[1, 2, 5, 8, 9]\n"
     ]
    }
   ],
   "source": [
    "#1.supprimer les doublons d'une liste\n",
    "def supprimer_doublons(liste):\n",
    "    return list(set(liste))\n",
    "ma_liste=[1, 5, 5, 8, 9, 8, 2]\n",
    "nouvelle_liste=supprimer_doublons(ma_liste)\n",
    "print(ma_liste)\n",
    "print(nouvelle_liste)"
   ]
  },
  {
   "cell_type": "code",
   "execution_count": 19,
   "id": "8458d7e4",
   "metadata": {},
   "outputs": [],
   "source": [
    "#2.generer une liste de nombres premiers jusqu'à un nombre donné\n",
    "def est_premier(n):\n",
    "    if n<=1:\n",
    "        return False\n",
    "    for i in range(2,int(n**0.5)+1):\n",
    "        if n%i==0:\n",
    "            return False\n",
    "    return True"
   ]
  },
  {
   "cell_type": "code",
   "execution_count": 20,
   "id": "ca889600",
   "metadata": {},
   "outputs": [],
   "source": [
    "def liste_nombres_premiers(maximum):\n",
    "    nombres_premiers=[]\n",
    "    for i in range(2, maximum + 1):\n",
    "        if est_premier(i):\n",
    "            nombres_premiers.append(i)\n",
    "    return nombres_premiers"
   ]
  },
  {
   "cell_type": "code",
   "execution_count": 21,
   "id": "3ed37b4e",
   "metadata": {},
   "outputs": [
    {
     "name": "stdout",
     "output_type": "stream",
     "text": [
      "[3, 6, 9, 12, 15]\n"
     ]
    }
   ],
   "source": [
    "#3.utiliser la fonction map pour multiplier chaque element d'une liste par 3\n",
    "liste=[1, 2, 3, 4, 5]\n",
    "resultat=list(map(lambda x:x*3,liste))\n",
    "print(resultat)"
   ]
  },
  {
   "cell_type": "markdown",
   "id": "9cb322f4",
   "metadata": {},
   "source": [
    "# EXERCICE 5"
   ]
  },
  {
   "cell_type": "code",
   "execution_count": 22,
   "id": "02183af0",
   "metadata": {},
   "outputs": [
    {
     "name": "stdout",
     "output_type": "stream",
     "text": [
      "Bonjour, comment ça va ?\n",
      "<function frequence_lettres at 0x0000020B789D7380> {'b': 1.4328398421710175e-25, 'o': 1.577207712071246e-14, 'n': 5.2327808856310845e-09, 'j': 1.9807577978172144e-21, 'u': 1.1409164915427155e-18, 'r': 2.738199579702517e-17, 'c': 6.571678991286041e-16, 'm': 9.463217747451901e-12, 'e': 2.1803253690129172e-10, 't': 1.2558674125514402e-07, 'ç': 3.0140817901234566e-06, 'a': 0.04173900462962963, 'v': 0.001736111111111111}\n"
     ]
    }
   ],
   "source": [
    "def frequence_lettres(texte):\n",
    "    #initialise un dictionnaire pour stocker les frequences\n",
    "    frequence = {}\n",
    "    \n",
    "    #parcourt chaque caractere dans le texte\n",
    "    for caractere in texte:\n",
    "        #verifie si le caractere est une lettre de l'alphabet\n",
    "        if caractere.isalpha():\n",
    "             #convertir le texte en minuscules pour eviter les differences des cas \n",
    "            caractere = caractere.lower()\n",
    "            #incremente la frequence du caractere dans le dictionnaire ou initialise à 1 s'il n'existe pas encore\n",
    "            frequence[caractere] = frequence.get(caractere, 0) + 1\n",
    "            \n",
    "            #normalise les frequences en divisant par la longueur du texte\n",
    "            longueur_texte = len(texte)\n",
    "            for lettre in frequence:\n",
    "                frequence[lettre]/=longueur_texte\n",
    "                \n",
    "    return frequence\n",
    "        \n",
    "#Exemples d'utilisation\n",
    "texte = \"Bonjour, comment ça va ?\"\n",
    "resultat = frequence_lettres(texte)\n",
    "print(texte)\n",
    "print(frequence_lettres, resultat)"
   ]
  },
  {
   "cell_type": "code",
   "execution_count": null,
   "id": "185d6933",
   "metadata": {},
   "outputs": [],
   "source": []
  }
 ],
 "metadata": {
  "kernelspec": {
   "display_name": "Python 3 (ipykernel)",
   "language": "python",
   "name": "python3"
  },
  "language_info": {
   "codemirror_mode": {
    "name": "ipython",
    "version": 3
   },
   "file_extension": ".py",
   "mimetype": "text/x-python",
   "name": "python",
   "nbconvert_exporter": "python",
   "pygments_lexer": "ipython3",
   "version": "3.11.5"
  }
 },
 "nbformat": 4,
 "nbformat_minor": 5
}
